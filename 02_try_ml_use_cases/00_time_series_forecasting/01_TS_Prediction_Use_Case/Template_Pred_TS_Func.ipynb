{
 "cells": [
  {
   "cell_type": "code",
   "execution_count": 14,
   "metadata": {},
   "outputs": [],
   "source": [
    "import numpy as np"
   ]
  },
  {
   "cell_type": "markdown",
   "metadata": {},
   "source": [
    "##### Summarize Date Df"
   ]
  },
  {
   "cell_type": "code",
   "execution_count": 15,
   "metadata": {},
   "outputs": [],
   "source": [
    "# Summarize df with Date\n",
    "def summarize_df(df):\n",
    "    print(df.shape[0])\n",
    "    print(min(df['Date']))\n",
    "    print(max(df['Date']))\n",
    "    df"
   ]
  },
  {
   "cell_type": "markdown",
   "metadata": {},
   "source": [
    "#### Preprocessing"
   ]
  },
  {
   "cell_type": "markdown",
   "metadata": {},
   "source": [
    "##### Fill empty weeks of date Df"
   ]
  },
  {
   "cell_type": "code",
   "execution_count": 16,
   "metadata": {},
   "outputs": [],
   "source": [
    "def Fix_Data(df):\n",
    "    my_date = datetime.now() # if date is 01/01/2018\n",
    "    year, week_num, day_of_week = my_date.isocalendar()\n",
    "    d = Week(year, week_num-1).monday()\n",
    "    rng = pd.date_range(df['Date'].min(), d,freq='7D')\n",
    "    df = df.set_index('Date').reindex(rng, fill_value=0).reset_index() \n",
    "    df.rename(columns={'index':'Date'},inplace=True)\n",
    "    return df"
   ]
  },
  {
   "cell_type": "markdown",
   "metadata": {},
   "source": [
    "##### Clean outliers"
   ]
  },
  {
   "cell_type": "code",
   "execution_count": 17,
   "metadata": {},
   "outputs": [],
   "source": [
    "def cap_outliers(df, max_outlier_value):\n",
    "    df.loc[df['Net Order Value']>max_outlier_value,'Net Order Value'] = max_outlier_value\n",
    "    return df"
   ]
  },
  {
   "cell_type": "markdown",
   "metadata": {},
   "source": [
    "##### Adjust Baseline"
   ]
  },
  {
   "cell_type": "code",
   "execution_count": 18,
   "metadata": {},
   "outputs": [],
   "source": [
    "def adjust_baseline(df, change_date, end_date):\n",
    "    # Calculate baseline avg difference between TS before change_date vs TS between change_date and end_date\n",
    "    diff_high_low = df.loc[(change_date < df['Date']) & (df['Date'] <= end_date),'Net Order Value'].mean()\\\n",
    "        -df.loc[df['Date'] <= change_date, 'Net Order Value'].mean()\n",
    "    # Adjust lower baseline with the above avg difference\n",
    "    df.loc[df['Date'] <= change_date,'Net Order Value'] += diff_high_low\n",
    "    return df"
   ]
  },
  {
   "cell_type": "markdown",
   "metadata": {},
   "source": [
    "#### Plots"
   ]
  },
  {
   "cell_type": "code",
   "execution_count": 40,
   "metadata": {},
   "outputs": [],
   "source": [
    "def plot_clean_y(df,train_df,max_outlier_value,y_margin):\n",
    "    fig, ax = plt.subplots(figsize=(20,10))\n",
    "    plt.plot(df['Date'], df['Net Order Value'], c='c',label='Y Original')\n",
    "    plt.plot(train_df['Date'], train_df['Net Order Value'], c='b',label='Y')\n",
    "    plt.legend(loc=\"upper right\")\n",
    "    plt.axis([min(train_df['Date']), max(train_df['Date']), 0, max_outlier_value+y_margin]);\n",
    "    plt.show()\n",
    "\n",
    "def plot_y_trend(train_df,t,y_min,y_max):\n",
    "    fig, ax = plt.subplots(figsize=(20,10))\n",
    "    plt.plot(train_df['Date'],t,color='b',label='Trend')\n",
    "    plt.plot(train_df['Date'],train_df['Net Order Value'],color='g',label='Y')\n",
    "    plt.legend(loc=\"upper right\")\n",
    "    ax.set_ylim([y_min,y_max])\n",
    "    plt.show()\n",
    "\n",
    "def plot_y_trend_ext(train_df,exo_col_name,exo_pretty_name,y_min,y_max,y_min_exo,y_max_exo):\n",
    "    fig, ax = plt.subplots(figsize=(20,10))\n",
    "    ax2 = ax.twinx()\n",
    "    # Net Order Value\n",
    "    ax.plot(train_df.index,train_df['Net Order Value'],color='g',label='Y')\n",
    "    # External data/GDP\n",
    "    ax2.plot(train_df.index,train_df[exo_col_name],color='c',label=exo_pretty_name)\n",
    "    # Trend\n",
    "    ax.plot(train_df.dropna().index,Y,color='b',label='Trend')\n",
    "    plt.legend(loc=\"upper right\")\n",
    "    ax.set_ylim([y_min,y_max])\n",
    "    ax2.set_ylim([y_min_exo,y_max_exo])\n",
    "    plt.show()\n",
    "    \n",
    "def plot_y_pred_trend_ext(train_df,exo_col_name,X,Y,X_F,y_min,y_max,y_min_exo,y_max_exo):\n",
    "    fig, ax = plt.subplots(figsize=(20,10))\n",
    "    ax2 = ax.twinx()\n",
    "    # External Data/GDP\n",
    "    ax2.plot(train_df[exo_col_name].dropna().index,train_df[exo_col_name].dropna(),color='m',label='External data (full)')\n",
    "    ax2.plot(train_df.dropna().index,X,color='c',label='External data (train for T fit)')\n",
    "    # Trend\n",
    "    ax.plot(train_df.dropna().index,Y,color='b',label='Trend (train for T fit)')\n",
    "    # Reg predicted Trend\n",
    "    ax.plot(train_df[exo_col_name].dropna().index,reg.predict(X_F),color='g',label='T Pred')\n",
    "    plt.legend(loc=\"upper right\")\n",
    "    ax.set_ylim([y_min,y_max])\n",
    "    ax2.set_ylim([y_min_exo,y_max_exo])\n",
    "    #ax.set_ylim([4000000,9000000])\n",
    "    #ax2.set_ylim([100,200])\n",
    "    plt.show()\n",
    "    \n",
    "def plot_y_t_s(train_df,trend_col_name,seasonality_col_name):\n",
    "    fig, ax = plt.subplots(figsize=(20,10))\n",
    "    plt.plot(train_df.index,train_df['Net Order Value'],color='g',label='Y')\n",
    "    plt.plot(train_df.index,train_df[trend_col_name],color='b',label='T')\n",
    "    plt.plot(train_df.index,train_df[trend_col_name]+train_df[seasonality_col_name],color='m',label='T+S')\n",
    "    plt.legend(loc=\"upper right\")\n",
    "    plt.show()\n",
    "    \n",
    "def plot_y_t_s_with_pred(train_df,trend_col_name,seasonality_col_name,pred_trend_col_name):\n",
    "    fig, ax = plt.subplots(figsize=(20,10))\n",
    "    plt.plot(train_df.index,train_df['Net Order Value'],color='g',label='Y')\n",
    "    plt.plot(train_df.index,train_df[trend_col_name],color='b',label='T')\n",
    "    plt.plot(train_df.index,train_df[pred_trend_col_name],color='c',label='T Pred')\n",
    "\n",
    "    plt.plot(train_df.index,train_df[trend_col_name]+train_df[seasonality_col_name],color='m',label='T+S')\n",
    "    plt.plot(train_df.index,train_df[pred_trend_col_name]+train_df[seasonality_col_name],color='r',label='T Pred + S')\n",
    "    plt.legend(loc=\"upper right\")\n",
    "    plt.show()\n",
    "    \n",
    "def plot_r(train_df,r_col_name):\n",
    "    fig, ax = plt.subplots(figsize=(20,10))\n",
    "    plt.plot(train_df.index,train_df[r_col_name],color='y',label='R')\n",
    "    plt.legend(loc=\"upper right\")\n",
    "    plt.show()\n",
    "    \n",
    "def plot_acf_pacf_r(r,lags):\n",
    "    fig,ax = plt.subplots(2,1,figsize=(20,10))\n",
    "    fig = plot_acf(r.dropna(), lags=lags, ax=ax[0])\n",
    "    fig = plot_pacf(r.dropna(), lags=lags, ax=ax[1])\n",
    "    plt.show()\n",
    "    \n",
    "def plot_final(train_df,trend_col_name,seasonality_col_name,r_col_name,trend_pred_col_name,y_pred_col_name):\n",
    "    fig, ax = plt.subplots(figsize=(20,10))\n",
    "    plt.plot(train_df.index,train_df['Net Order Value'],color='g',label='Y')\n",
    "    plt.plot(train_df.index,train_df[trend_col_name],color='b',label='T')\n",
    "    plt.plot(train_df.index,train_df[trend_col_name]+train_df[seasonality_col_name],color='m',label='T+S')\n",
    "    # Seasonality\n",
    "    plt.plot(train_df.index,train_df[seasonality_col_name],color='m',label='S')\n",
    "    # Predicted Trend\n",
    "    plt.plot(train_df.index,train_df[trend_pred_col_name],color='y',label='T Pred')\n",
    "    plt.plot(train_df.index,train_df[trend_pred_col_name]+train_df[seasonality_col_name],color='k',label='T Pred + S')\n",
    "    # Predicted Y on Validation part\n",
    "    plt.plot(train_df[train_df['Predicted R Classification']=='test'].index,\n",
    "             train_df[train_df['Predicted R Classification']=='test'][y_pred_col_name],color='c',label='Y Pred (val)')\n",
    "    # Predicted Y on Future part\n",
    "    plt.plot(train_df[train_df['Predicted R Classification']=='forecast'].index,\n",
    "             train_df[train_df['Predicted R Classification']=='forecast'][y_pred_col_name],color='r',label='Y Pred (future)')\n",
    "    plt.legend(loc=\"upper right\")\n",
    "    plt.show()"
   ]
  },
  {
   "cell_type": "markdown",
   "metadata": {},
   "source": [
    "#### Trend"
   ]
  },
  {
   "cell_type": "markdown",
   "metadata": {},
   "source": [
    "##### Calculate Trend"
   ]
  },
  {
   "cell_type": "code",
   "execution_count": 23,
   "metadata": {},
   "outputs": [],
   "source": [
    "def calculate_trend(df,ts_seasonality, center=False):\n",
    "    t = df.iloc[:,1].rolling(window=ts_seasonality,center=center).mean()\n",
    "    return t"
   ]
  },
  {
   "cell_type": "markdown",
   "metadata": {},
   "source": [
    "##### Combine External/GDP data with Y"
   ]
  },
  {
   "cell_type": "code",
   "execution_count": 21,
   "metadata": {},
   "outputs": [],
   "source": [
    "def combine_ext_data(train_df,ext_data,days_to_shift=1):\n",
    "    # Add Exo regressors (GDP) to train df\n",
    "    train_df = train_df.set_index('Date')\n",
    "    ext_data['DATE'] = pd.to_datetime(ext_data['DATE'])\n",
    "    # Optional - Align dates of Industry GDP with Trend\n",
    "    if days_to_shift is not None:\n",
    "        ext_data = ext_data.set_index('DATE').shift(days_to_shift,freq='D')\n",
    "\n",
    "    # Combine Train Df with GDP\n",
    "    train_df = train_df.combine_first(ext_data)\n",
    "    return train_df"
   ]
  },
  {
   "cell_type": "markdown",
   "metadata": {},
   "source": [
    "##### Create subsets for Trend Fit"
   ]
  },
  {
   "cell_type": "code",
   "execution_count": 26,
   "metadata": {},
   "outputs": [],
   "source": [
    "def subsets_to_fit(train_df,exo_col_name,trend_col_name,val_size_perc):\n",
    "    # Create X set (exo regressor)\n",
    "    X = train_df.dropna()[exo_col_name].values\n",
    "    train_size = int(len(X) * (1-val_size_perc))\n",
    "    X_train = X[:train_size].reshape(-1,1)\n",
    "    # Create Y set (Trend to fit)\n",
    "    Y_train = train_df.dropna()[trend_col_name].values[:train_size].reshape(-1,1)\n",
    "    \n",
    "    return X_train,Y_train"
   ]
  },
  {
   "cell_type": "markdown",
   "metadata": {},
   "source": [
    "##### Trend Regression to predict future Trend"
   ]
  },
  {
   "cell_type": "code",
   "execution_count": 29,
   "metadata": {},
   "outputs": [],
   "source": [
    "def predict_trend(train_df,exo_col_name,pred_trend_col_name):\n",
    "    X_F = train_df[exo_col_name].dropna().values.reshape(-1,1)\n",
    "    print(X_F.shape)\n",
    "    print(reg.predict(X_F).shape)\n",
    "    ## Add Predicted Trend to df\n",
    "    t_pred = reg.predict(X_F)\n",
    "    len_pred = t_pred.shape[0]\n",
    "    train_df['Predicted Trend'] = np.nan\n",
    "    train_df['Predicted Trend'][-len_pred:] = t_pred.ravel()\n",
    "    return X_F,train_df"
   ]
  },
  {
   "cell_type": "markdown",
   "metadata": {},
   "source": [
    "#### Seasonality"
   ]
  },
  {
   "cell_type": "code",
   "execution_count": 33,
   "metadata": {},
   "outputs": [],
   "source": [
    "def calc_seasonality(train_df,col_index=4,window=10,center=True):\n",
    "    s = train_df.iloc[:,col_index].rolling(window=10,center=True).mean()\n",
    "    return s"
   ]
  },
  {
   "cell_type": "markdown",
   "metadata": {},
   "source": [
    "#### Residuals"
   ]
  },
  {
   "cell_type": "code",
   "execution_count": 38,
   "metadata": {},
   "outputs": [],
   "source": [
    "def create_r_df(train_df,columns_to_drop,col_to_rename):\n",
    "    r_df = train_df.copy()\n",
    "    r_df = r_df.drop(columns=columns_to_drop)\n",
    "    r_df = r_df.reset_index()\n",
    "    r_df = r_df.rename(columns=col_to_rename)\n",
    "    return r_df\n",
    "\n",
    "def add_r(train_df,results_df_r,r_col_name):\n",
    "    results_df_r_idx = results_df_r.set_index('Date')\n",
    "    train_df[r_col_name] = np.nan\n",
    "    train_df[r_col_name] = results_df_r_idx['Predicted Net Order Value']\n",
    "    train_df[r_class_col_name] = results_df_r_idx['Classification']\n",
    "    return train_df"
   ]
  },
  {
   "cell_type": "markdown",
   "metadata": {},
   "source": [
    "##### Fit ARIMA model + Predict future values"
   ]
  },
  {
   "cell_type": "code",
   "execution_count": 22,
   "metadata": {},
   "outputs": [],
   "source": [
    "# Fit ARIMA on input df (optional input and future exo regr) and predict validation + future values\n",
    "# Or use param fitted model (optional input and future exo regr) to predict validation + future values\n",
    "# Plot input and output (val+future) predictions\n",
    "def get_results_with_val(df,exo,p,d,q,P,D,Q,s, model, n_predictions=18,value_col_name,val_size_perc):\n",
    "\n",
    "    X = df[value_col_name].values\n",
    "    Y = df['Date'].values\n",
    "    \n",
    "    train_size = int(len(X) * (1-val_size_perc))\n",
    "    train, test = X[:train_size], X[train_size:len(X)]\n",
    "    week = Y[train_size:len(X)]\n",
    "    \n",
    "    exo_past,exo_future = None,None\n",
    "    if exo is not None:\n",
    "        exo_past,exo_future = exo[:len(X)], exo[len(X):len(exo)]\n",
    "    \n",
    "    print('Checking model for fit...')\n",
    "    if model is None:\n",
    "        print('No input model, will fit SARIMA'+str(p)+str(d)+str(q)+str(P)+str(D)+str(Q)+str(s))\n",
    "        print('Starting Arima fit...')\n",
    "        smodel = pm.arima.ARIMA(order=[p,d,q]\n",
    "                                #,\n",
    "                                #seasonal_order=[P,D,Q,s]\n",
    "                                ,method='lbfgs'\n",
    "                            ,maxiter=50,suppress_warnings=True)\\\n",
    "                             .fit(df[value_col_name].values,exo_past)\n",
    "        print('Finished Arima fit.')\n",
    "    else:\n",
    "        print('Existing model, will use it')\n",
    "        smodel = model\n",
    "    \n",
    "\n",
    "    history = [x for x in train]\n",
    "    predictions = list()\n",
    "    for t in range(len(test)):\n",
    "        model = SARIMAX(history, order=smodel.order, seasonal_order=smodel.seasonal_order,enforce_stationarity=False)\n",
    "        model_fit = model.fit(disp=0)\n",
    "        output = model_fit.forecast()\n",
    "        if output[0]<0:\n",
    "           yhat=0\n",
    "        else: yhat =output[0]\n",
    "        predictions.append(yhat)\n",
    "        obs = test[t]\n",
    "        history.append(obs)\n",
    "        print('predicted=%f, expected=%f' % (yhat, obs))\n",
    "    error = mean_squared_error(test, predictions)\n",
    "    print('Test MSE: %.3f' % error)\n",
    "    \n",
    "\n",
    "    # plot\n",
    "    #pyplot.plot(test)\n",
    "    #pyplot.plot(predictions, color='red')\n",
    "    #pyplot.show()\n",
    "    \n",
    "    # Train set (train data)\n",
    "    data=pd.DataFrame()\n",
    "    data['Date']=Y[0:train_size]\n",
    "    data['Predicted Net Order Value']=NaN\n",
    "    data['Actual Net Order Value']=X[0:train_size]\n",
    "    data['Classification']='train'\n",
    "    \n",
    "    # Validation set (val data with predictions)\n",
    "    Tested=pd.DataFrame()\n",
    "    Tested['Date'] = week\n",
    "    Tested['Predicted Net Order Value']=predictions\n",
    "    Tested['Actual Net Order Value']=test\n",
    "    Tested['Classification'] = 'test'\n",
    "    Tested['Predicted Net Order Value'] = Tested['Predicted Net Order Value'].astype(float) # TEST\n",
    "    Tested['Date'] =  pd.to_datetime(Tested['Date'])\n",
    "\n",
    "    # Forecast set (out-of-sample predictions)\n",
    "    print('Starting to predict future values...')\n",
    "    n_periods=n_predictions\n",
    "    fitted, confint = smodel.predict(n_periods=n_periods, return_conf_int=True, exogenous=exo_future)\n",
    "    print('Finished to predict future values.')\n",
    "    rng = pd.date_range(df['Date'].max(), periods=n_periods, freq='7D')\n",
    "    forecast = pd.DataFrame({ 'Date': rng, 'Predicted Net Order Value': fitted, 'Actual Net Order Value':NaN, 'Classification': 'forecast', 'Conf_lower':confint[:, 0], 'Conf_Upper':confint[:, 1] }) \n",
    "    forecast = forecast.drop(forecast.index[0])\n",
    "\n",
    "    # All sets combined\n",
    "    results = data.append(Tested, ignore_index=True)\n",
    "    results = results.append(forecast, ignore_index=True)\n",
    "    results['Date'] =  pd.to_datetime(results['Date'])\n",
    "    \n",
    "    # Plot all sets (input and predictions)\n",
    "    fig, ax = plt.subplots(figsize=(20,10))\n",
    "    results['Date'] = results['Date'].astype(str)\n",
    "    plt.plot(results['Date'], results['Predicted Net Order Value'], c='b')\n",
    "    plt.plot(results['Date'], results['Actual Net Order Value'], c='r')\n",
    "    plt.fill_between(results['Date'], \n",
    "                     results['Conf_lower'], \n",
    "                     results['Conf_Upper'], \n",
    "                     color='k', alpha=.15)\n",
    "    for i, tick in enumerate(ax.get_xticklabels()):\n",
    "        tick.set_rotation(45)\n",
    "        tick.set_visible(False)\n",
    "        if i % 3 == 0:\n",
    "            tick.set_visible(True)\n",
    "    plt.show()\n",
    "    \n",
    "    # Reformat Dates to Date type\n",
    "    results['Date'] =  pd.to_datetime(results['Date'])\n",
    "\n",
    "    return smodel,results"
   ]
  },
  {
   "cell_type": "markdown",
   "metadata": {},
   "source": [
    "#### Y Predictions"
   ]
  },
  {
   "cell_type": "code",
   "execution_count": 39,
   "metadata": {},
   "outputs": [],
   "source": [
    "def calc_y_pred(train_df,y_pred_col_name,trend_pred_col_name,seasonality_col_name,r_class_col_name):\n",
    "    train_df[y_pred_col_name] = np.nan\n",
    "    # Validation Y values\n",
    "    train_df.loc[train_df[r_class_col_name]=='test',y_pred_col_name] = train_df[trend_pred_col_name]\\\n",
    "                                + train_df[seasonality_col_name]\\\n",
    "                                + train_df['Predicted R']\n",
    "    # Future Y values\n",
    "    train_df.loc[train_df[r_class_col_name]=='forecast',y_pred_col_name] = train_df[trend_pred_col_name]\\\n",
    "                                + train_df[seasonality_col_name]\\\n",
    "                                + train_df['Predicted R']"
   ]
  },
  {
   "cell_type": "code",
   "execution_count": null,
   "metadata": {},
   "outputs": [],
   "source": []
  }
 ],
 "metadata": {
  "kernelspec": {
   "display_name": "Python 3",
   "language": "python",
   "name": "python3"
  },
  "language_info": {
   "codemirror_mode": {
    "name": "ipython",
    "version": 3
   },
   "file_extension": ".py",
   "mimetype": "text/x-python",
   "name": "python",
   "nbconvert_exporter": "python",
   "pygments_lexer": "ipython3",
   "version": "3.7.6"
  }
 },
 "nbformat": 4,
 "nbformat_minor": 4
}
