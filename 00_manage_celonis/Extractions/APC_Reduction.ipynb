{
 "cells": [
  {
   "cell_type": "code",
   "execution_count": null,
   "metadata": {},
   "outputs": [],
   "source": [
    "pip install sqlparse"
   ]
  },
  {
   "cell_type": "code",
   "execution_count": null,
   "metadata": {},
   "outputs": [],
   "source": [
    "pip install ftfy"
   ]
  },
  {
   "cell_type": "code",
   "execution_count": null,
   "metadata": {
    "tags": []
   },
   "outputs": [],
   "source": [
    "from main import identify_columns\n",
    "### https://confluence.celonis.com/display/CH/How+to%3A+Use+the+APC+reduction+app ###\n",
    "### Copy all files into a folder called Extraction ###\n",
    "########################## FILL OUT INFORMATION ##########################\n",
    "\n",
    "login = {\n",
    "    ### URL format has to be: \"company.cluster.celonis.cloud\" ###\n",
    "    ### API token must have access to all analyses and the event collection ###\n",
    "    \"celonis_url\": \"XXX.XX-X.celonis.cloud\",\n",
    "    \"api_token\": \"XXXXXXXXXXXXXXXXXXXXXXXXXXXXXXXXXXXXXXXXXXXXXXXXXXXXXXXXXXXXXXXXXXXXXXXXXXXXXXXXXXXXXXXXXXXXXXXXXXXXXXXXXXXX\",\n",
    "}  \n",
    "\n",
    "pool_id = 'XXXXXXXX-XXXX-XXXX-XXXX-XXXXXXXXXXXX' # Fill in the pool_id of the targeted pool\n",
    "on_prem = False # True if the data pool is in a hybrid set up, or False if the data pool is in a full cloud scenario\n",
    "excel_only = True # True if of only an excel of the used columns should be generated, or False if the minimal extractions should be automatically created\n",
    "#########################################################################\n",
    "\n",
    "identify_columns(login, pool_id, on_prem, excel_only)"
   ]
  }
 ],
 "metadata": {
  "kernelspec": {
   "display_name": "Python 3",
   "language": "python",
   "name": "python3"
  },
  "language_info": {
   "codemirror_mode": {
    "name": "ipython",
    "version": 3
   },
   "file_extension": ".py",
   "mimetype": "text/x-python",
   "name": "python",
   "nbconvert_exporter": "python",
   "pygments_lexer": "ipython3",
   "version": "3.7.3"
  }
 },
 "nbformat": 4,
 "nbformat_minor": 4
}
